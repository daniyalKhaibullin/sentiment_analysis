{
 "cells": [
  {
   "cell_type": "markdown",
   "metadata": {},
   "source": [
    "# Last Part: Model Training and Evaluation\n",
    "\n",
    "In this notebook, we build a deep learning classifier that combines Convolutional Neural Networks (CNNs) and Long Short-Term Memory networks (LSTMs) to predict emotions from text. Our classifier will use the custom Word2Vec embeddings we generated earlier. The final output layer uses a softmax activation function, ensuring that the model outputs a probability distribution over the emotion classes.\n",
    "\n",
    "Below, we break down each step with code and explanations.\n"
   ]
  },
  {
   "cell_type": "markdown",
   "metadata": {},
   "source": [
    "## 1. Data Preparation\n",
    "\n",
    "Firstly, we gotta go through what we did in the previous notebook, so here's a quick recap:"
   ]
  },
  {
   "cell_type": "code",
   "execution_count": 3,
   "metadata": {},
   "outputs": [],
   "source": [
    "import pandas as pd\n",
    "#process the data for training the model\n",
    "data = pd.read_csv('./kaggle_data/training.csv', encoding='utf-8')\n",
    "data = data.dropna()\n",
    "data = data.drop_duplicates()\n",
    "#take each sentence from the text column and store as text_data\n",
    "text_data = data['text'].values"
   ]
  },
  {
   "cell_type": "markdown",
   "metadata": {},
   "source": [
    "Next, we have to save the labels, which are classification labels with possible values including \n",
    "\n",
    "* sadness (0)\n",
    "* joy (1)\n",
    "* love (2)\n",
    "* anger (3)\n",
    "* fear (4)"
   ]
  },
  {
   "cell_type": "code",
   "execution_count": 5,
   "metadata": {},
   "outputs": [],
   "source": [
    "\n",
    "\n",
    "#save labels. a classification label, with possible values including \n",
    "#sadness (0), joy (1), love (2), anger (3), fear (4).\n",
    "labels = data['label'].values\n",
    "\n",
    "total_count_per_label = {}\n",
    "for label in labels:\n",
    "    total_count_per_label[label] = total_count_per_label.get(label, 0) + 1"
   ]
  },
  {
   "cell_type": "markdown",
   "metadata": {},
   "source": [
    "Ok, now we have the data and labels. Let's preprocess the data and start with the patterns. If we notice and check the kaggle_data, most of the text with contraction, the ' is ommited so we have to also include those. Let's first load the libraries, set the extension of is_sentiment, and add the dictionary of patterns as well as the sentiment lemmas that we need (in case if the stop word removal happens, we don't ommit the stop words that contain sentiment)"
   ]
  },
  {
   "cell_type": "code",
   "execution_count": 6,
   "metadata": {},
   "outputs": [],
   "source": [
    "import re\n",
    "from bs4 import BeautifulSoup\n",
    "import spacy\n",
    "from spacy.tokens import Token\n",
    "Token.set_extension(\"is_sentiment\", default=False, force=True)\n",
    "\n",
    "patterns = {\n",
    "    r\"\\bim\\b\": \"I'm\",\n",
    "    r\"\\byoure\\b\": \"you're\",\n",
    "    r\"\\bdidnt\\b\": \"didn't\",\n",
    "    r\"\\bdont\\b\": \"don't\",\n",
    "    r\"\\bcan't\\b\": \"can't\",  # Already correct if typed correctly, but you can handle \"cant\"\n",
    "    r\"\\bcant\\b\": \"can't\",\n",
    "    r\"\\bwont\\b\": \"won't\",\n",
    "    r\"\\bwouldnt\\b\": \"wouldn't\",\n",
    "    r\"\\bshouldnt\\b\": \"shouldn't\",\n",
    "    r\"\\bcouldnt\\b\": \"couldn't\",\n",
    "    r\"\\bmustnt\\b\": \"mustn't\",\n",
    "    r\"\\bwasnt\\b\": \"wasn't\",\n",
    "    r\"\\bwerent\\b\": \"weren't\",\n",
    "    r\"\\bhavent\\b\": \"haven't\",\n",
    "    r\"\\bhasnt\\b\": \"hasn't\",\n",
    "    r\"\\bill\\b\": \"I'll\",\n",
    "    r\"\\bhes\\b\": \"he's\",\n",
    "    r\"\\bshes\\b\": \"she's\",\n",
    "    r\"\\bits\\b\": \"it's\",      # Use context to decide if it's possessive or a contraction\n",
    "    r\"\\bthats\\b\": \"that's\",\n",
    "    r\"\\bwhos\\b\": \"who's\",\n",
    "    r\"\\bhows\\b\": \"how's\",\n",
    "    r\"\\bwheres\\b\": \"where's\",\n",
    "    r\"\\btheres\\b\": \"there's\",\n",
    "    r\"\\byoure\\b\": \"you're\",\n",
    "    r\"\\bwouldve\\b\": \"would've\",\n",
    "    r\"\\bshouldve\\b\": \"should've\",\n",
    "    r\"\\bcouldve\\b\": \"could've\",\n",
    "    r\"\\bmightve\\b\": \"might've\",\n",
    "    r\"\\bmustve\\b\": \"must've\",\n",
    "    r\"\\bneednt\\b\": \"needn't\",\n",
    "    r\"\\bshant\\b\": \"shan't\",\n",
    "    r\"\\byall\\b\": \"y'all\"\n",
    "}\n",
    "# Define a set of sentiment-bearing words (normalized to lowercase)\n",
    "sentiment_lemmas = {\"not\", \"no\", \"nor\", \"very\", \"extremely\", \"really\", \"so\", \"too\", \"just\", \"but\"}"
   ]
  },
  {
   "cell_type": "markdown",
   "metadata": {},
   "source": [
    "Ok great, now let's load our spacy model, create the `nlp` object, then create a list of tokenized texts where each sublist will be the text"
   ]
  },
  {
   "cell_type": "code",
   "execution_count": 7,
   "metadata": {},
   "outputs": [],
   "source": [
    "nlp = spacy.load(\"en_core_web_sm\")\n",
    "tokenized_texts = []"
   ]
  },
  {
   "cell_type": "markdown",
   "metadata": {},
   "source": [
    "Now let's go through each text in the text_data we extracted, then extract the text and remove extra whitespace and newlines. After that we will push the text through our processed pipeline package, mark tokens as sentiment-bearing based on their lemmas, after which we go through each token, and normalise and data cleanse each token (specifically if it's the words that we need for the sentiment analysis model)"
   ]
  },
  {
   "cell_type": "code",
   "execution_count": 8,
   "metadata": {},
   "outputs": [
    {
     "name": "stdout",
     "output_type": "stream",
     "text": [
      "[['not', 'feel', 'humiliated'], ['feel', 'so', 'hopeless', 'so', 'damned', 'hopeful', 'just', 'care', 'awake'], ['grab', 'minute', 'post', 'feel', 'greedy', 'wrong'], ['feel', 'nostalgic', 'fireplace', 'know', 'property'], ['feel', 'grouchy']]\n"
     ]
    }
   ],
   "source": [
    "\n",
    "\n",
    "for text in text_data:\n",
    "\n",
    "    # Use BeautifulSoup to parse the text and remove unwanted tags\n",
    "    soup = BeautifulSoup(text, \"html.parser\")\n",
    "    for tag in soup([\"script\", \"style\"]):\n",
    "        tag.decompose()  # Remove script and style elements completely\n",
    "\n",
    "    # Extract text and remove extra whitespace/newlines\n",
    "    text = soup.get_text(separator=\" \")\n",
    "    for pattern, replacement in patterns.items():\n",
    "        text = re.sub(pattern, replacement, text, flags=re.IGNORECASE)\n",
    "    text = re.sub(r'\\s+', ' ', text)\n",
    "\n",
    "    # Process the cleaned text with spaCy\n",
    "    doc = nlp(text)\n",
    "\n",
    "    # Mark tokens as sentiment-bearing based on their lemma\n",
    "    for token in doc:\n",
    "        if token.lemma_.lower() in sentiment_lemmas:\n",
    "            token._.is_sentiment = True\n",
    "\n",
    "    cleaned_tokens = []\n",
    "\n",
    "\n",
    "    for token in doc:\n",
    "        # Skip punctuation and numbers\n",
    "        if token.is_punct or token.like_num:\n",
    "            continue\n",
    "        # Skip stop words UNLESS they are marked as sentiment-bearing.\n",
    "        if token.is_stop and not token._.is_sentiment:\n",
    "            continue\n",
    "        lemma = token.lemma_.lower().strip()\n",
    "        if lemma and lemma != '-pron-':\n",
    "            cleaned_tokens.append(lemma)\n",
    "    tokenized_texts.append(cleaned_tokens)\n",
    "print(tokenized_texts[:5])"
   ]
  },
  {
   "cell_type": "markdown",
   "metadata": {},
   "source": [
    "Ok, great. Now that we have the tokenized texts, let's introduce them to the model.\n",
    "\n",
    "Before building the model, we need to convert our tokenized texts into padded sequences and prepare an embedding matrix using our pre-trained Word2Vec vectors."
   ]
  },
  {
   "cell_type": "code",
   "execution_count": 9,
   "metadata": {},
   "outputs": [],
   "source": [
    "import numpy as np\n",
    "import pandas as pd\n",
    "from tensorflow.keras.preprocessing.text import Tokenizer\n",
    "from tensorflow.keras.preprocessing.sequence import pad_sequences\n",
    "from gensim.models import Word2Vec"
   ]
  },
  {
   "cell_type": "markdown",
   "metadata": {},
   "source": [
    "tokenized_texts is a list of lists (each inner list is the tokens for one document)\n",
    "labels is a numpy array containing our class labels (e.g., 0 for sadness, 1 for joy, etc.)"
   ]
  },
  {
   "cell_type": "markdown",
   "metadata": {},
   "source": [
    "### Firstly, we gotta convert token lists back to text (space-separated tokens) for Keras Tokenizer\n",
    "\n",
    "### Then, we have to create and fit the tokenizer on the texts\n"
   ]
  },
  {
   "cell_type": "code",
   "execution_count": 10,
   "metadata": {},
   "outputs": [],
   "source": [
    "texts = [\" \".join(tokens) for tokens in tokenized_texts]\n",
    "\n",
    "tokenizer = Tokenizer()\n",
    "tokenizer.fit_on_texts(texts)\n",
    "sequences = tokenizer.texts_to_sequences(texts)"
   ]
  },
  {
   "cell_type": "markdown",
   "metadata": {},
   "source": [
    "### Great\n",
    "now we have to determine the maximum sequence length. For example, 100 tokens. Along with that, we also need to determine the pad sequences accordingly, after which converting the labels to a numpy array since we've created a normal list of labels "
   ]
  },
  {
   "cell_type": "code",
   "execution_count": 14,
   "metadata": {},
   "outputs": [
    {
     "name": "stdout",
     "output_type": "stream",
     "text": [
      "Shape of padded sequences: (15999, 100)\n"
     ]
    }
   ],
   "source": [
    "max_seq_length = 100\n",
    "X = pad_sequences(sequences, maxlen=max_seq_length, padding='post')\n",
    "\n",
    "y = np.array(labels)\n",
    "#Now, let's see the shape of the number_of_documents and max_seq_length\n",
    "print(\"Shape of padded sequences:\", X.shape)\n",
    "\n",
    "word_index = tokenizer.word_index\n",
    "vocab_size = len(word_index) + 1"
   ]
  },
  {
   "cell_type": "markdown",
   "metadata": {},
   "source": [
    "### Great stuff!! 🚀🚀🚀\n",
    "\n",
    "What the previous part does is convert our cleaned text into sequences of integers where each integer represents a unique token. The padding ensure that all sequences have the same length for batch processing. Finally, the labels are just simply converted to a Numpy array for training. \n",
    "\n",
    "Our next step would be to to use a pretrained Word2Vec model so that our embedding layer is initialized. "
   ]
  },
  {
   "cell_type": "markdown",
   "metadata": {},
   "source": [
    "# Comparing Embedding Approaches: Custom vs. Google Pre-Trained\n",
    "\n",
    "In this section we compare two scenarios for our emotion classifier:\n",
    "\n",
    "1. **Scenario 1:** Using our custom Word2Vec embeddings (100 dimensions) trained on our dataset.\n",
    "2. **Scenario 2:** Using the Google pre-trained Word2Vec embeddings (300 dimensions).\n",
    "\n",
    "For both scenarios we follow the same pipeline:\n",
    "- **Data Preparation:** Convert tokenized texts into padded sequences and build the corresponding embedding matrix.\n",
    "- **Model Architecture:** Build a CNN-LSTM classifier with an embedding layer (initialized with our embedding matrix), a convolutional layer, an LSTM layer, and finally a dense output layer with a softmax activation.\n",
    "- **Model Training and Evaluation:** Train the model and evaluate performance on a validation set.\n",
    "\n",
    "---\n",
    "\n",
    "## Scenario 1: Custom Word2Vec Embeddings (100 Dimensions)\n",
    "\n",
    "### 1. Data Preparation & Building the Embedding Matrix"
   ]
  },
  {
   "cell_type": "code",
   "execution_count": 18,
   "metadata": {},
   "outputs": [],
   "source": [
    "from gensim.models import Word2Vec\n",
    "custom_w2v = Word2Vec.load(\"word2vec_custom.model\")\n",
    "embedding_dim = custom_w2v.vector_size"
   ]
  },
  {
   "cell_type": "markdown",
   "metadata": {},
   "source": [
    "Now we build the embedding matrix for custom embeddings"
   ]
  },
  {
   "cell_type": "code",
   "execution_count": 19,
   "metadata": {},
   "outputs": [
    {
     "name": "stdout",
     "output_type": "stream",
     "text": [
      "Custom embedding matrix shape: (11870, 100)\n"
     ]
    }
   ],
   "source": [
    "embedding_matrix = np.zeros((vocab_size, embedding_dim))\n",
    "for word, i in word_index.items():\n",
    "    if word in custom_w2v.wv:\n",
    "        embedding_matrix[i] = custom_w2v.wv[word]\n",
    "\n",
    "print(\"Custom embedding matrix shape:\", embedding_matrix.shape)"
   ]
  },
  {
   "cell_type": "markdown",
   "metadata": {},
   "source": [
    "# 2. Model Architecture: Combining Convoluted Neural Networks with Long short-term Memory (type of RNN)\n",
    "\n",
    "We will build a model that:\n",
    "\n",
    "Uses an Embedding Layer (initialized with our custom embeddings).\n",
    "Applies a 1D Convolutional Layer (CNN) to extract local features from the sequence.\n",
    "Uses a MaxPooling Layer to reduce dimensionality.\n",
    "Feeds the output into an LSTM Layer to capture sequential dependencies.\n",
    "Concludes with a Dense Output Layer using a softmax activation function for multi-class classification.\n",
    "\n",
    "### Recap: \n",
    "The softmax activation function converts a vector of raw scores (logits) into a probability distribution. For a given input vector **z** with components \\( z_1, z_2, \\dots, z_K \\) for \\( K \\) classes, the softmax function is defined as:\n",
    "\n",
    "\n",
    "```math\n",
    "\\sigma(z)_j = \\frac{e^{z_j}}{\\sum_{k=1}^{K} e^{z_k}}\n",
    "```\n",
    "\n",
    "- **Interpretation:**  \n",
    "  - Each \\( \\sigma(z)_j \\) represents the probability that the input belongs to class \\( j \\).\n",
    "  - The outputs are in the range (0, 1) and sum to 1, making them interpretable as probabilities.\n",
    "\n",
    "\n",
    "### How is it useful in our LSTM-based model?\n",
    "\n",
    "In our emotion classification task, the final layer of our model is a dense (fully connected) layer with a softmax activation function. This is crucial because:\n",
    "- It transforms the output of the network into a probability distribution over the five emotion classes.\n",
    "- The class with the highest probability is chosen as the model's prediction.\n",
    "- It enables the use of **cross-entropy loss** during training, which compares the predicted probabilities with the true labels to update the model weights.\n",
    "\n",
    "\n"
   ]
  },
  {
   "cell_type": "markdown",
   "metadata": {},
   "source": [
    "Now let me familiarise you with the workflow:"
   ]
  },
  {
   "cell_type": "markdown",
   "metadata": {},
   "source": [
    "\n",
    "### Step-by-Step Workflow of Our CNN-LSTM Model\n",
    "\n",
    "1. **Input Preparation:**  \n",
    "   - **Tokenization & Padding:**  \n",
    "     Convert raw text into sequences of integer tokens. Then pad these sequences so that they have a uniform length, ensuring that the input data is suitable for batch processing.\n",
    "  \n",
    "2. **Embedding Layer:**  \n",
    "   - **Purpose:**  \n",
    "     Maps each token (an integer) to a dense vector representation (embedding).  \n",
    "   - **Initialization:**  \n",
    "     We initialize this layer with pre-trained embeddings (either our custom Word2Vec or Google’s pre-trained model).  \n",
    "   - **Output:**  \n",
    "     A 2D matrix representing the text, where each row corresponds to the embedding of a token.\n",
    "\n",
    "3. **Convolutional Layer (CNN):**  \n",
    "   - **Purpose:**  \n",
    "     Applies 1D convolutions to capture local patterns (n-gram features) in the sequence.\n",
    "   - **Mechanism:**  \n",
    "     Filters slide over the embedding sequence to learn spatial features, which can be especially useful for detecting key phrases or word combinations that indicate emotions.\n",
    "\n",
    "4. **MaxPooling Layer:**  \n",
    "   - **Purpose:**  \n",
    "     Reduces the dimensionality of the output from the CNN by selecting the maximum value from patches of the feature map, retaining the most important features.\n",
    "\n",
    "5. **LSTM Layer (with Bidirectional Wrapper):**  \n",
    "   - **Purpose:**  \n",
    "     Captures the sequential and contextual dependencies in the text.  \n",
    "   - **Bidirectionality:**  \n",
    "     Processes the input in both forward and backward directions, which helps the network understand context from both ends of the sentence.\n",
    "\n",
    "6. **Dense Layers:**  \n",
    "   - **Purpose:**  \n",
    "     Further process the features extracted by the CNN and LSTM layers.  \n",
    "   - **Dropout:**  \n",
    "     Regularization is applied to prevent overfitting.\n",
    "\n",
    "7. **Output Layer with Softmax Activation:**  \n",
    "   - **Purpose:**  \n",
    "     Produces a probability distribution over the emotion classes.  \n",
    "   - **Formula:**  \n",
    "     Uses the softmax formula shown above to convert raw scores into class probabilities.\n",
    "   - **Final Decision:**  \n",
    "     The model predicts the emotion class with the highest probability.\n"
   ]
  },
  {
   "cell_type": "code",
   "execution_count": 20,
   "metadata": {},
   "outputs": [],
   "source": [
    "from tensorflow.keras.models import Sequential\n",
    "from tensorflow.keras.layers import Embedding, Conv1D, MaxPooling1D, LSTM, Dense, Dropout, Bidirectional\n",
    "\n",
    "num_classes = len(np.unique(y))  # Number of emotion classes\n"
   ]
  },
  {
   "cell_type": "markdown",
   "metadata": {},
   "source": [
    "### Embedding layer: Using our pre-trained embeddings, set trainable=False to keep them fixed\n",
    "### Convlutional and LSTM layers\n",
    "### Then we have the output layers"
   ]
  },
  {
   "cell_type": "code",
   "execution_count": 21,
   "metadata": {},
   "outputs": [
    {
     "name": "stderr",
     "output_type": "stream",
     "text": [
      "/Users/daniyalkhaibullin/Documents/projects/sentiment_analysis/sent_env/lib/python3.12/site-packages/keras/src/layers/core/embedding.py:90: UserWarning: Argument `input_length` is deprecated. Just remove it.\n",
      "  warnings.warn(\n"
     ]
    },
    {
     "data": {
      "text/html": [
       "<pre style=\"white-space:pre;overflow-x:auto;line-height:normal;font-family:Menlo,'DejaVu Sans Mono',consolas,'Courier New',monospace\"><span style=\"font-weight: bold\">Model: \"sequential\"</span>\n",
       "</pre>\n"
      ],
      "text/plain": [
       "\u001b[1mModel: \"sequential\"\u001b[0m\n"
      ]
     },
     "metadata": {},
     "output_type": "display_data"
    },
    {
     "data": {
      "text/html": [
       "<pre style=\"white-space:pre;overflow-x:auto;line-height:normal;font-family:Menlo,'DejaVu Sans Mono',consolas,'Courier New',monospace\">┏━━━━━━━━━━━━━━━━━━━━━━━━━━━━━━━━━┳━━━━━━━━━━━━━━━━━━━━━━━━┳━━━━━━━━━━━━━━━┓\n",
       "┃<span style=\"font-weight: bold\"> Layer (type)                    </span>┃<span style=\"font-weight: bold\"> Output Shape           </span>┃<span style=\"font-weight: bold\">       Param # </span>┃\n",
       "┡━━━━━━━━━━━━━━━━━━━━━━━━━━━━━━━━━╇━━━━━━━━━━━━━━━━━━━━━━━━╇━━━━━━━━━━━━━━━┩\n",
       "│ embedding (<span style=\"color: #0087ff; text-decoration-color: #0087ff\">Embedding</span>)           │ ?                      │     <span style=\"color: #00af00; text-decoration-color: #00af00\">1,187,000</span> │\n",
       "├─────────────────────────────────┼────────────────────────┼───────────────┤\n",
       "│ conv1d (<span style=\"color: #0087ff; text-decoration-color: #0087ff\">Conv1D</span>)                 │ ?                      │   <span style=\"color: #00af00; text-decoration-color: #00af00\">0</span> (unbuilt) │\n",
       "├─────────────────────────────────┼────────────────────────┼───────────────┤\n",
       "│ max_pooling1d (<span style=\"color: #0087ff; text-decoration-color: #0087ff\">MaxPooling1D</span>)    │ ?                      │             <span style=\"color: #00af00; text-decoration-color: #00af00\">0</span> │\n",
       "├─────────────────────────────────┼────────────────────────┼───────────────┤\n",
       "│ bidirectional (<span style=\"color: #0087ff; text-decoration-color: #0087ff\">Bidirectional</span>)   │ ?                      │   <span style=\"color: #00af00; text-decoration-color: #00af00\">0</span> (unbuilt) │\n",
       "├─────────────────────────────────┼────────────────────────┼───────────────┤\n",
       "│ dense (<span style=\"color: #0087ff; text-decoration-color: #0087ff\">Dense</span>)                   │ ?                      │   <span style=\"color: #00af00; text-decoration-color: #00af00\">0</span> (unbuilt) │\n",
       "├─────────────────────────────────┼────────────────────────┼───────────────┤\n",
       "│ dropout (<span style=\"color: #0087ff; text-decoration-color: #0087ff\">Dropout</span>)               │ ?                      │             <span style=\"color: #00af00; text-decoration-color: #00af00\">0</span> │\n",
       "├─────────────────────────────────┼────────────────────────┼───────────────┤\n",
       "│ dense_1 (<span style=\"color: #0087ff; text-decoration-color: #0087ff\">Dense</span>)                 │ ?                      │   <span style=\"color: #00af00; text-decoration-color: #00af00\">0</span> (unbuilt) │\n",
       "└─────────────────────────────────┴────────────────────────┴───────────────┘\n",
       "</pre>\n"
      ],
      "text/plain": [
       "┏━━━━━━━━━━━━━━━━━━━━━━━━━━━━━━━━━┳━━━━━━━━━━━━━━━━━━━━━━━━┳━━━━━━━━━━━━━━━┓\n",
       "┃\u001b[1m \u001b[0m\u001b[1mLayer (type)                   \u001b[0m\u001b[1m \u001b[0m┃\u001b[1m \u001b[0m\u001b[1mOutput Shape          \u001b[0m\u001b[1m \u001b[0m┃\u001b[1m \u001b[0m\u001b[1m      Param #\u001b[0m\u001b[1m \u001b[0m┃\n",
       "┡━━━━━━━━━━━━━━━━━━━━━━━━━━━━━━━━━╇━━━━━━━━━━━━━━━━━━━━━━━━╇━━━━━━━━━━━━━━━┩\n",
       "│ embedding (\u001b[38;5;33mEmbedding\u001b[0m)           │ ?                      │     \u001b[38;5;34m1,187,000\u001b[0m │\n",
       "├─────────────────────────────────┼────────────────────────┼───────────────┤\n",
       "│ conv1d (\u001b[38;5;33mConv1D\u001b[0m)                 │ ?                      │   \u001b[38;5;34m0\u001b[0m (unbuilt) │\n",
       "├─────────────────────────────────┼────────────────────────┼───────────────┤\n",
       "│ max_pooling1d (\u001b[38;5;33mMaxPooling1D\u001b[0m)    │ ?                      │             \u001b[38;5;34m0\u001b[0m │\n",
       "├─────────────────────────────────┼────────────────────────┼───────────────┤\n",
       "│ bidirectional (\u001b[38;5;33mBidirectional\u001b[0m)   │ ?                      │   \u001b[38;5;34m0\u001b[0m (unbuilt) │\n",
       "├─────────────────────────────────┼────────────────────────┼───────────────┤\n",
       "│ dense (\u001b[38;5;33mDense\u001b[0m)                   │ ?                      │   \u001b[38;5;34m0\u001b[0m (unbuilt) │\n",
       "├─────────────────────────────────┼────────────────────────┼───────────────┤\n",
       "│ dropout (\u001b[38;5;33mDropout\u001b[0m)               │ ?                      │             \u001b[38;5;34m0\u001b[0m │\n",
       "├─────────────────────────────────┼────────────────────────┼───────────────┤\n",
       "│ dense_1 (\u001b[38;5;33mDense\u001b[0m)                 │ ?                      │   \u001b[38;5;34m0\u001b[0m (unbuilt) │\n",
       "└─────────────────────────────────┴────────────────────────┴───────────────┘\n"
      ]
     },
     "metadata": {},
     "output_type": "display_data"
    },
    {
     "data": {
      "text/html": [
       "<pre style=\"white-space:pre;overflow-x:auto;line-height:normal;font-family:Menlo,'DejaVu Sans Mono',consolas,'Courier New',monospace\"><span style=\"font-weight: bold\"> Total params: </span><span style=\"color: #00af00; text-decoration-color: #00af00\">1,187,000</span> (4.53 MB)\n",
       "</pre>\n"
      ],
      "text/plain": [
       "\u001b[1m Total params: \u001b[0m\u001b[38;5;34m1,187,000\u001b[0m (4.53 MB)\n"
      ]
     },
     "metadata": {},
     "output_type": "display_data"
    },
    {
     "data": {
      "text/html": [
       "<pre style=\"white-space:pre;overflow-x:auto;line-height:normal;font-family:Menlo,'DejaVu Sans Mono',consolas,'Courier New',monospace\"><span style=\"font-weight: bold\"> Trainable params: </span><span style=\"color: #00af00; text-decoration-color: #00af00\">0</span> (0.00 B)\n",
       "</pre>\n"
      ],
      "text/plain": [
       "\u001b[1m Trainable params: \u001b[0m\u001b[38;5;34m0\u001b[0m (0.00 B)\n"
      ]
     },
     "metadata": {},
     "output_type": "display_data"
    },
    {
     "data": {
      "text/html": [
       "<pre style=\"white-space:pre;overflow-x:auto;line-height:normal;font-family:Menlo,'DejaVu Sans Mono',consolas,'Courier New',monospace\"><span style=\"font-weight: bold\"> Non-trainable params: </span><span style=\"color: #00af00; text-decoration-color: #00af00\">1,187,000</span> (4.53 MB)\n",
       "</pre>\n"
      ],
      "text/plain": [
       "\u001b[1m Non-trainable params: \u001b[0m\u001b[38;5;34m1,187,000\u001b[0m (4.53 MB)\n"
      ]
     },
     "metadata": {},
     "output_type": "display_data"
    }
   ],
   "source": [
    "model = Sequential()\n",
    "model.add(Embedding(input_dim=vocab_size,\n",
    "                    output_dim=embedding_dim,\n",
    "                    input_length=max_seq_length,\n",
    "                    weights=[embedding_matrix],\n",
    "                    trainable=False))\n",
    "\n",
    "# Convolutional layer: Extract local features from the embeddings.\n",
    "model.add(Conv1D(filters=128, kernel_size=5, activation='relu'))\n",
    "model.add(MaxPooling1D(pool_size=2))\n",
    "\n",
    "# LSTM layer: Capture sequential information.\n",
    "model.add(Bidirectional(LSTM(64, dropout=0.2, recurrent_dropout=0.2)))\n",
    "\n",
    "# Dense layer: Further processing with dropout for regularization.\n",
    "model.add(Dense(64, activation='relu'))\n",
    "model.add(Dropout(0.5))\n",
    "\n",
    "# Output layer: Softmax activation outputs a probability distribution over classes.\n",
    "model.add(Dense(num_classes, activation='softmax'))\n",
    "\n",
    "model.summary()"
   ]
  },
  {
   "cell_type": "markdown",
   "metadata": {},
   "source": [
    "Ok, great, the setup seems successful!🚀🚀🚀"
   ]
  },
  {
   "cell_type": "markdown",
   "metadata": {},
   "source": [
    "# Model Training:\n",
    "\n",
    "With our model defined, we compile and train it using our prepared data. We'll use the Adam optimizer and sparse categorical cross-entropy as our loss function since our labels are integers."
   ]
  },
  {
   "cell_type": "markdown",
   "metadata": {},
   "source": [
    "\"\n",
    "# Adam Optimizer\n",
    "\n",
    "Adam (short for Adaptive Moment Estimation) optimizer combines the strengths of two well-known techniques—Momentum and RMSprop—to deliver a powerful method for adjusting the learning rates of parameters during training.\n",
    "\n",
    "Adam is highly effective, especially when working with large datasets and complex models, because it is memory-efficient and adapts the learning rate dynamically for each parameter.\n",
    "\n",
    "## How Does Adam Work?\n",
    "\n",
    "Adam builds upon two key concepts in optimization:\n",
    "\n",
    "### 1. Momentum\n",
    "\n",
    "Momentum is used to accelerate the gradient descent process by incorporating an exponentially weighted moving average of past gradients. This helps smooth out the trajectory of the optimization, allowing the algorithm to converge faster by reducing oscillations.\n",
    "\n",
    "The update rule with momentum is:\n",
    "\n",
    "$$\n",
    "w_{t+1} = w_t - \\alpha \\, m_t\n",
    "$$\n",
    "\n",
    "where:\n",
    "- \\( m_t \\) is the moving average of the gradients at time \\( t \\),\n",
    "- \\( \\alpha \\) is the learning rate,\n",
    "- \\( w_t \\) and \\( w_{t+1} \\) are the weights at time \\( t \\) and \\( t+1 \\), respectively.\n",
    "\n",
    "The momentum term \\( m_t \\) is updated recursively as:\n",
    "\n",
    "$$\n",
    "m_t = \\beta_1 \\, m_{t-1} + (1-\\beta_1) \\, \\frac{\\partial L}{\\partial w_t}\n",
    "$$\n",
    "\n",
    "where:\n",
    "- \\( \\beta_1 \\) is the momentum parameter (typically set to 0.9),\n",
    "- \\( \\frac{\\partial L}{\\partial w_t} \\) is the gradient of the loss function with respect to the weights at time \\( t \\). \" - geeksforgeeks.org\n"
   ]
  },
  {
   "cell_type": "code",
   "execution_count": 23,
   "metadata": {},
   "outputs": [],
   "source": [
    "from tensorflow.keras.optimizers import Adam\n",
    "from sklearn.model_selection import train_test_split\n"
   ]
  },
  {
   "cell_type": "markdown",
   "metadata": {},
   "source": [
    "Splitting the data into training and validation sets"
   ]
  },
  {
   "cell_type": "code",
   "execution_count": 24,
   "metadata": {},
   "outputs": [],
   "source": [
    "\n",
    "# Split data into training and validation sets\n",
    "X_train, X_val, y_train, y_val = train_test_split(X, y, test_size=0.2, random_state=42)\n"
   ]
  },
  {
   "cell_type": "markdown",
   "metadata": {},
   "source": [
    "Finally compiling and training the model"
   ]
  },
  {
   "cell_type": "code",
   "execution_count": 25,
   "metadata": {},
   "outputs": [
    {
     "name": "stdout",
     "output_type": "stream",
     "text": [
      "Epoch 1/10\n",
      "\u001b[1m400/400\u001b[0m \u001b[32m━━━━━━━━━━━━━━━━━━━━\u001b[0m\u001b[37m\u001b[0m \u001b[1m24s\u001b[0m 55ms/step - accuracy: 0.3192 - loss: 1.6251 - val_accuracy: 0.3194 - val_loss: 1.5938\n",
      "Epoch 2/10\n",
      "\u001b[1m400/400\u001b[0m \u001b[32m━━━━━━━━━━━━━━━━━━━━\u001b[0m\u001b[37m\u001b[0m \u001b[1m24s\u001b[0m 60ms/step - accuracy: 0.3398 - loss: 1.5886 - val_accuracy: 0.3359 - val_loss: 1.5859\n",
      "Epoch 3/10\n",
      "\u001b[1m400/400\u001b[0m \u001b[32m━━━━━━━━━━━━━━━━━━━━\u001b[0m\u001b[37m\u001b[0m \u001b[1m24s\u001b[0m 59ms/step - accuracy: 0.3515 - loss: 1.5769 - val_accuracy: 0.3509 - val_loss: 1.5737\n",
      "Epoch 4/10\n",
      "\u001b[1m400/400\u001b[0m \u001b[32m━━━━━━━━━━━━━━━━━━━━\u001b[0m\u001b[37m\u001b[0m \u001b[1m23s\u001b[0m 58ms/step - accuracy: 0.3690 - loss: 1.5691 - val_accuracy: 0.3759 - val_loss: 1.5615\n",
      "Epoch 5/10\n",
      "\u001b[1m400/400\u001b[0m \u001b[32m━━━━━━━━━━━━━━━━━━━━\u001b[0m\u001b[37m\u001b[0m \u001b[1m23s\u001b[0m 56ms/step - accuracy: 0.3663 - loss: 1.5585 - val_accuracy: 0.3731 - val_loss: 1.5509\n",
      "Epoch 6/10\n",
      "\u001b[1m400/400\u001b[0m \u001b[32m━━━━━━━━━━━━━━━━━━━━\u001b[0m\u001b[37m\u001b[0m \u001b[1m23s\u001b[0m 58ms/step - accuracy: 0.3904 - loss: 1.5400 - val_accuracy: 0.3738 - val_loss: 1.5422\n",
      "Epoch 7/10\n",
      "\u001b[1m400/400\u001b[0m \u001b[32m━━━━━━━━━━━━━━━━━━━━\u001b[0m\u001b[37m\u001b[0m \u001b[1m23s\u001b[0m 58ms/step - accuracy: 0.3972 - loss: 1.5213 - val_accuracy: 0.3891 - val_loss: 1.5232\n",
      "Epoch 8/10\n",
      "\u001b[1m400/400\u001b[0m \u001b[32m━━━━━━━━━━━━━━━━━━━━\u001b[0m\u001b[37m\u001b[0m \u001b[1m23s\u001b[0m 57ms/step - accuracy: 0.4052 - loss: 1.5178 - val_accuracy: 0.3781 - val_loss: 1.5166\n",
      "Epoch 9/10\n",
      "\u001b[1m400/400\u001b[0m \u001b[32m━━━━━━━━━━━━━━━━━━━━\u001b[0m\u001b[37m\u001b[0m \u001b[1m24s\u001b[0m 60ms/step - accuracy: 0.4116 - loss: 1.4993 - val_accuracy: 0.3866 - val_loss: 1.5098\n",
      "Epoch 10/10\n",
      "\u001b[1m400/400\u001b[0m \u001b[32m━━━━━━━━━━━━━━━━━━━━\u001b[0m\u001b[37m\u001b[0m \u001b[1m24s\u001b[0m 60ms/step - accuracy: 0.4093 - loss: 1.5013 - val_accuracy: 0.4134 - val_loss: 1.4933\n"
     ]
    }
   ],
   "source": [
    "# Compile the model\n",
    "model.compile(loss='sparse_categorical_crossentropy',\n",
    "              optimizer=Adam(learning_rate=0.001),\n",
    "              metrics=['accuracy'])\n",
    "\n",
    "# Train the model\n",
    "history = model.fit(X_train, y_train,\n",
    "                    epochs=10,\n",
    "                    batch_size=32,\n",
    "                    validation_data=(X_val, y_val))"
   ]
  },
  {
   "cell_type": "markdown",
   "metadata": {},
   "source": [
    "Not the most promising, but let's see the evaluation"
   ]
  },
  {
   "cell_type": "code",
   "execution_count": 26,
   "metadata": {},
   "outputs": [
    {
     "name": "stdout",
     "output_type": "stream",
     "text": [
      "\u001b[1m100/100\u001b[0m \u001b[32m━━━━━━━━━━━━━━━━━━━━\u001b[0m\u001b[37m\u001b[0m \u001b[1m2s\u001b[0m 17ms/step - accuracy: 0.4253 - loss: 1.4768\n",
      "Validation Loss: 1.4933409690856934\n",
      "Validation Accuracy: 0.41343748569488525\n"
     ]
    }
   ],
   "source": [
    "val_loss, val_accuracy = model.evaluate(X_val, y_val)\n",
    "print(\"Validation Loss:\", val_loss)\n",
    "print(\"Validation Accuracy:\", val_accuracy)\n"
   ]
  },
  {
   "cell_type": "markdown",
   "metadata": {},
   "source": [
    "## Evaluating Our Model: Beyond Accuracy\n",
    "\n",
    "Our current model achieves a validation accuracy of about **41.3%** and a loss of approximately **1.49**. While this tells us that the model is correctly classifying around 4 out of 10 instances, it doesn't give us the full picture of its performance.\n"
   ]
  },
  {
   "cell_type": "markdown",
   "metadata": {},
   "source": [
    "### What Does This Mean?\n",
    "- **Accuracy in Context:**  \n",
    "  With 5 emotion classes (e.g., sadness, joy, love, anger, fear), random guessing would yield about 20% accuracy. Our model doing around 41% is better than random, but there's significant room for improvement.\n",
    "\n",
    "- **Limitations of Accuracy:**  \n",
    "  Accuracy alone doesn't show us how well the model handles each class, especially if the classes are imbalanced. It doesn't tell us if some classes are consistently misclassified.\n",
    "\n",
    "### Deeper Evaluation with F1-Score and Confusion Matrix\n",
    "- **F1-Score:**  \n",
    "  The F1-score is the harmonic mean of precision and recall:\n",
    "  \n",
    " ```math\n",
    "  F1 = 2 \\times \\frac{\\text{Precision} \\times \\text{Recall}}{\\text{Precision} + \\text{Recall}}\n",
    "```\n",
    "  \n",
    "  This metric helps us balance the trade-off between false positives and false negatives, offering a more nuanced view than accuracy alone.\n",
    "\n",
    "- **Confusion Matrix:**  \n",
    "  A confusion matrix shows how many instances of each class are correctly or incorrectly predicted. This is crucial to diagnose if certain emotions (classes) are being confused with one another.\n",
    "\n",
    "### How Can We Improve the Accuracy?\n",
    "1. **Data Augmentation:**  \n",
    "   Increase the amount and diversity of training data to cover more language variations.\n",
    "2. **Model Architecture Tuning:**  \n",
    "   - Experiment with deeper or more complex networks (e.g., additional CNN layers, more LSTM units, or even attention mechanisms).\n",
    "   - Adjust hyperparameters such as learning rate, dropout rates, or batch size.\n",
    "3. **Embedding Strategy:**  \n",
    "   - Consider fine-tuning the embedding layer by making it trainable.\n",
    "   - Explore using alternative embeddings like Google’s 300-dimensional Word2Vec or even contextual embeddings (e.g., BERT) which might capture more nuanced language patterns.\n",
    "4. **Evaluation Metrics:**  \n",
    "   - Use metrics like the F1-score and confusion matrix to better understand class-wise performance.\n",
    "   - Analyze misclassifications to see which emotions are most challenging and require further model tuning.\n",
    "\n",
    "### Sample Code: Additional Evaluation Metrics\n",
    "The following code computes and visualizes the confusion matrix and prints a classification report, giving us precision, recall, and F1-scores for each class.\n"
   ]
  },
  {
   "cell_type": "code",
   "execution_count": 28,
   "metadata": {},
   "outputs": [
    {
     "name": "stdout",
     "output_type": "stream",
     "text": [
      "\u001b[1m100/100\u001b[0m \u001b[32m━━━━━━━━━━━━━━━━━━━━\u001b[0m\u001b[37m\u001b[0m \u001b[1m1s\u001b[0m 8ms/step\n",
      "              precision    recall  f1-score   support\n",
      "\n",
      "           0       0.37      0.72      0.49       950\n",
      "           1       0.47      0.60      0.53      1027\n",
      "           2       0.67      0.01      0.03       303\n",
      "           3       0.00      0.00      0.00       439\n",
      "           4       0.27      0.04      0.07       375\n",
      "           5       0.00      0.00      0.00       106\n",
      "\n",
      "    accuracy                           0.41      3200\n",
      "   macro avg       0.30      0.23      0.19      3200\n",
      "weighted avg       0.36      0.41      0.33      3200\n",
      "\n"
     ]
    },
    {
     "name": "stderr",
     "output_type": "stream",
     "text": [
      "/Users/daniyalkhaibullin/Documents/projects/sentiment_analysis/sent_env/lib/python3.12/site-packages/sklearn/metrics/_classification.py:1565: UndefinedMetricWarning: Precision is ill-defined and being set to 0.0 in labels with no predicted samples. Use `zero_division` parameter to control this behavior.\n",
      "  _warn_prf(average, modifier, f\"{metric.capitalize()} is\", len(result))\n",
      "/Users/daniyalkhaibullin/Documents/projects/sentiment_analysis/sent_env/lib/python3.12/site-packages/sklearn/metrics/_classification.py:1565: UndefinedMetricWarning: Precision is ill-defined and being set to 0.0 in labels with no predicted samples. Use `zero_division` parameter to control this behavior.\n",
      "  _warn_prf(average, modifier, f\"{metric.capitalize()} is\", len(result))\n",
      "/Users/daniyalkhaibullin/Documents/projects/sentiment_analysis/sent_env/lib/python3.12/site-packages/sklearn/metrics/_classification.py:1565: UndefinedMetricWarning: Precision is ill-defined and being set to 0.0 in labels with no predicted samples. Use `zero_division` parameter to control this behavior.\n",
      "  _warn_prf(average, modifier, f\"{metric.capitalize()} is\", len(result))\n"
     ]
    },
    {
     "data": {
      "image/png": "[encoded data removed]",
      "text/plain": [
       "<Figure size 800x600 with 2 Axes>"
      ]
     },
     "metadata": {},
     "output_type": "display_data"
    }
   ],
   "source": [
    "from sklearn.metrics import classification_report, confusion_matrix\n",
    "import seaborn as sns\n",
    "import matplotlib.pyplot as plt\n",
    "\n",
    "# Generate predictions on the validation set\n",
    "y_pred = model.predict(X_val)\n",
    "y_pred_classes = y_pred.argmax(axis=1)\n",
    "\n",
    "# Print the classification report (includes precision, recall, F1-score)\n",
    "print(classification_report(y_val, y_pred_classes))\n",
    "\n",
    "# Compute the confusion matrix\n",
    "cm = confusion_matrix(y_val, y_pred_classes)\n",
    "\n",
    "# Plot the confusion matrix for a visual understanding\n",
    "plt.figure(figsize=(8, 6))\n",
    "sns.heatmap(cm, annot=True, fmt=\"d\", cmap=\"Blues\")\n",
    "plt.title(\"Confusion Matrix\")\n",
    "plt.ylabel(\"True Label\")\n",
    "plt.xlabel(\"Predicted Label\")\n",
    "plt.show()"
   ]
  },
  {
   "cell_type": "markdown",
   "metadata": {},
   "source": [
    "**Analysis:** The confusion matrix and classification report show that our model is heavily favoring certain classes (like labels 0 and 1) while almost completely ignoring others (such as 3, 4, and 5). Specifically, label 0 achieves a relatively high recall (72%) but low precision (37%), meaning the model often predicts 0 even when it's not correct. Labels 2, 3, 4, and 5 have very low recall (the model rarely predicts them correctly), indicating a significant imbalance in the predictions. Overall, the accuracy of 41% confirms that the model is doing better than random guessing for a 6-class problem, but the macro-average F1-score of 0.19 indicates that performance across all classes is uneven. To improve, we could fine-tune or unfreeze our embedding layer, collect or generate more balanced data (or apply class weighting/oversampling to address class imbalance), explore more complex architectures (e.g., adding attention mechanisms), and adjust hyperparameters (learning rate, number of LSTM units, dropout rates, etc.). Evaluating metrics like F1-score and confusion matrices is crucial for understanding these issues and guiding further optimization.\n"
   ]
  },
  {
   "cell_type": "markdown",
   "metadata": {},
   "source": [
    "Below is a condensed example that incorporates potential improvements, such as making the embedding layer trainable, applying class weights, or adjusting hyperparameters. You can adapt these suggestions to suit your dataset and environment.\n"
   ]
  },
  {
   "cell_type": "code",
   "execution_count": 29,
   "metadata": {},
   "outputs": [
    {
     "name": "stderr",
     "output_type": "stream",
     "text": [
      "/Users/daniyalkhaibullin/Documents/projects/sentiment_analysis/sent_env/lib/python3.12/site-packages/keras/src/layers/core/embedding.py:90: UserWarning: Argument `input_length` is deprecated. Just remove it.\n",
      "  warnings.warn(\n"
     ]
    },
    {
     "data": {
      "text/html": [
       "<pre style=\"white-space:pre;overflow-x:auto;line-height:normal;font-family:Menlo,'DejaVu Sans Mono',consolas,'Courier New',monospace\"><span style=\"font-weight: bold\">Model: \"sequential_1\"</span>\n",
       "</pre>\n"
      ],
      "text/plain": [
       "\u001b[1mModel: \"sequential_1\"\u001b[0m\n"
      ]
     },
     "metadata": {},
     "output_type": "display_data"
    },
    {
     "data": {
      "text/html": [
       "<pre style=\"white-space:pre;overflow-x:auto;line-height:normal;font-family:Menlo,'DejaVu Sans Mono',consolas,'Courier New',monospace\">┏━━━━━━━━━━━━━━━━━━━━━━━━━━━━━━━━━┳━━━━━━━━━━━━━━━━━━━━━━━━┳━━━━━━━━━━━━━━━┓\n",
       "┃<span style=\"font-weight: bold\"> Layer (type)                    </span>┃<span style=\"font-weight: bold\"> Output Shape           </span>┃<span style=\"font-weight: bold\">       Param # </span>┃\n",
       "┡━━━━━━━━━━━━━━━━━━━━━━━━━━━━━━━━━╇━━━━━━━━━━━━━━━━━━━━━━━━╇━━━━━━━━━━━━━━━┩\n",
       "│ embedding_1 (<span style=\"color: #0087ff; text-decoration-color: #0087ff\">Embedding</span>)         │ ?                      │     <span style=\"color: #00af00; text-decoration-color: #00af00\">1,187,000</span> │\n",
       "├─────────────────────────────────┼────────────────────────┼───────────────┤\n",
       "│ conv1d_1 (<span style=\"color: #0087ff; text-decoration-color: #0087ff\">Conv1D</span>)               │ ?                      │   <span style=\"color: #00af00; text-decoration-color: #00af00\">0</span> (unbuilt) │\n",
       "├─────────────────────────────────┼────────────────────────┼───────────────┤\n",
       "│ max_pooling1d_1 (<span style=\"color: #0087ff; text-decoration-color: #0087ff\">MaxPooling1D</span>)  │ ?                      │             <span style=\"color: #00af00; text-decoration-color: #00af00\">0</span> │\n",
       "├─────────────────────────────────┼────────────────────────┼───────────────┤\n",
       "│ bidirectional_1 (<span style=\"color: #0087ff; text-decoration-color: #0087ff\">Bidirectional</span>) │ ?                      │   <span style=\"color: #00af00; text-decoration-color: #00af00\">0</span> (unbuilt) │\n",
       "├─────────────────────────────────┼────────────────────────┼───────────────┤\n",
       "│ dense_2 (<span style=\"color: #0087ff; text-decoration-color: #0087ff\">Dense</span>)                 │ ?                      │   <span style=\"color: #00af00; text-decoration-color: #00af00\">0</span> (unbuilt) │\n",
       "├─────────────────────────────────┼────────────────────────┼───────────────┤\n",
       "│ dropout_1 (<span style=\"color: #0087ff; text-decoration-color: #0087ff\">Dropout</span>)             │ ?                      │             <span style=\"color: #00af00; text-decoration-color: #00af00\">0</span> │\n",
       "├─────────────────────────────────┼────────────────────────┼───────────────┤\n",
       "│ dense_3 (<span style=\"color: #0087ff; text-decoration-color: #0087ff\">Dense</span>)                 │ ?                      │   <span style=\"color: #00af00; text-decoration-color: #00af00\">0</span> (unbuilt) │\n",
       "└─────────────────────────────────┴────────────────────────┴───────────────┘\n",
       "</pre>\n"
      ],
      "text/plain": [
       "┏━━━━━━━━━━━━━━━━━━━━━━━━━━━━━━━━━┳━━━━━━━━━━━━━━━━━━━━━━━━┳━━━━━━━━━━━━━━━┓\n",
       "┃\u001b[1m \u001b[0m\u001b[1mLayer (type)                   \u001b[0m\u001b[1m \u001b[0m┃\u001b[1m \u001b[0m\u001b[1mOutput Shape          \u001b[0m\u001b[1m \u001b[0m┃\u001b[1m \u001b[0m\u001b[1m      Param #\u001b[0m\u001b[1m \u001b[0m┃\n",
       "┡━━━━━━━━━━━━━━━━━━━━━━━━━━━━━━━━━╇━━━━━━━━━━━━━━━━━━━━━━━━╇━━━━━━━━━━━━━━━┩\n",
       "│ embedding_1 (\u001b[38;5;33mEmbedding\u001b[0m)         │ ?                      │     \u001b[38;5;34m1,187,000\u001b[0m │\n",
       "├─────────────────────────────────┼────────────────────────┼───────────────┤\n",
       "│ conv1d_1 (\u001b[38;5;33mConv1D\u001b[0m)               │ ?                      │   \u001b[38;5;34m0\u001b[0m (unbuilt) │\n",
       "├─────────────────────────────────┼────────────────────────┼───────────────┤\n",
       "│ max_pooling1d_1 (\u001b[38;5;33mMaxPooling1D\u001b[0m)  │ ?                      │             \u001b[38;5;34m0\u001b[0m │\n",
       "├─────────────────────────────────┼────────────────────────┼───────────────┤\n",
       "│ bidirectional_1 (\u001b[38;5;33mBidirectional\u001b[0m) │ ?                      │   \u001b[38;5;34m0\u001b[0m (unbuilt) │\n",
       "├─────────────────────────────────┼────────────────────────┼───────────────┤\n",
       "│ dense_2 (\u001b[38;5;33mDense\u001b[0m)                 │ ?                      │   \u001b[38;5;34m0\u001b[0m (unbuilt) │\n",
       "├─────────────────────────────────┼────────────────────────┼───────────────┤\n",
       "│ dropout_1 (\u001b[38;5;33mDropout\u001b[0m)             │ ?                      │             \u001b[38;5;34m0\u001b[0m │\n",
       "├─────────────────────────────────┼────────────────────────┼───────────────┤\n",
       "│ dense_3 (\u001b[38;5;33mDense\u001b[0m)                 │ ?                      │   \u001b[38;5;34m0\u001b[0m (unbuilt) │\n",
       "└─────────────────────────────────┴────────────────────────┴───────────────┘\n"
      ]
     },
     "metadata": {},
     "output_type": "display_data"
    },
    {
     "data": {
      "text/html": [
       "<pre style=\"white-space:pre;overflow-x:auto;line-height:normal;font-family:Menlo,'DejaVu Sans Mono',consolas,'Courier New',monospace\"><span style=\"font-weight: bold\"> Total params: </span><span style=\"color: #00af00; text-decoration-color: #00af00\">1,187,000</span> (4.53 MB)\n",
       "</pre>\n"
      ],
      "text/plain": [
       "\u001b[1m Total params: \u001b[0m\u001b[38;5;34m1,187,000\u001b[0m (4.53 MB)\n"
      ]
     },
     "metadata": {},
     "output_type": "display_data"
    },
    {
     "data": {
      "text/html": [
       "<pre style=\"white-space:pre;overflow-x:auto;line-height:normal;font-family:Menlo,'DejaVu Sans Mono',consolas,'Courier New',monospace\"><span style=\"font-weight: bold\"> Trainable params: </span><span style=\"color: #00af00; text-decoration-color: #00af00\">1,187,000</span> (4.53 MB)\n",
       "</pre>\n"
      ],
      "text/plain": [
       "\u001b[1m Trainable params: \u001b[0m\u001b[38;5;34m1,187,000\u001b[0m (4.53 MB)\n"
      ]
     },
     "metadata": {},
     "output_type": "display_data"
    },
    {
     "data": {
      "text/html": [
       "<pre style=\"white-space:pre;overflow-x:auto;line-height:normal;font-family:Menlo,'DejaVu Sans Mono',consolas,'Courier New',monospace\"><span style=\"font-weight: bold\"> Non-trainable params: </span><span style=\"color: #00af00; text-decoration-color: #00af00\">0</span> (0.00 B)\n",
       "</pre>\n"
      ],
      "text/plain": [
       "\u001b[1m Non-trainable params: \u001b[0m\u001b[38;5;34m0\u001b[0m (0.00 B)\n"
      ]
     },
     "metadata": {},
     "output_type": "display_data"
    },
    {
     "name": "stdout",
     "output_type": "stream",
     "text": [
      "Epoch 1/10\n",
      "\u001b[1m400/400\u001b[0m \u001b[32m━━━━━━━━━━━━━━━━━━━━\u001b[0m\u001b[37m\u001b[0m \u001b[1m25s\u001b[0m 55ms/step - accuracy: 0.2080 - loss: 1.7952 - val_accuracy: 0.3684 - val_loss: 1.7597\n",
      "Epoch 2/10\n",
      "\u001b[1m400/400\u001b[0m \u001b[32m━━━━━━━━━━━━━━━━━━━━\u001b[0m\u001b[37m\u001b[0m \u001b[1m25s\u001b[0m 61ms/step - accuracy: 0.3641 - loss: 1.5726 - val_accuracy: 0.6059 - val_loss: 0.9976\n",
      "Epoch 3/10\n",
      "\u001b[1m400/400\u001b[0m \u001b[32m━━━━━━━━━━━━━━━━━━━━\u001b[0m\u001b[37m\u001b[0m \u001b[1m24s\u001b[0m 61ms/step - accuracy: 0.6463 - loss: 0.8381 - val_accuracy: 0.8681 - val_loss: 0.4429\n",
      "Epoch 4/10\n",
      "\u001b[1m400/400\u001b[0m \u001b[32m━━━━━━━━━━━━━━━━━━━━\u001b[0m\u001b[37m\u001b[0m \u001b[1m25s\u001b[0m 62ms/step - accuracy: 0.8847 - loss: 0.3547 - val_accuracy: 0.8903 - val_loss: 0.3586\n",
      "Epoch 5/10\n",
      "\u001b[1m400/400\u001b[0m \u001b[32m━━━━━━━━━━━━━━━━━━━━\u001b[0m\u001b[37m\u001b[0m \u001b[1m24s\u001b[0m 61ms/step - accuracy: 0.9199 - loss: 0.2296 - val_accuracy: 0.8791 - val_loss: 0.4137\n",
      "Epoch 6/10\n",
      "\u001b[1m400/400\u001b[0m \u001b[32m━━━━━━━━━━━━━━━━━━━━\u001b[0m\u001b[37m\u001b[0m \u001b[1m25s\u001b[0m 62ms/step - accuracy: 0.9450 - loss: 0.1545 - val_accuracy: 0.8947 - val_loss: 0.3585\n",
      "Epoch 7/10\n",
      "\u001b[1m400/400\u001b[0m \u001b[32m━━━━━━━━━━━━━━━━━━━━\u001b[0m\u001b[37m\u001b[0m \u001b[1m24s\u001b[0m 61ms/step - accuracy: 0.9562 - loss: 0.1184 - val_accuracy: 0.8869 - val_loss: 0.3988\n",
      "Epoch 8/10\n",
      "\u001b[1m400/400\u001b[0m \u001b[32m━━━━━━━━━━━━━━━━━━━━\u001b[0m\u001b[37m\u001b[0m \u001b[1m24s\u001b[0m 61ms/step - accuracy: 0.9635 - loss: 0.1027 - val_accuracy: 0.8809 - val_loss: 0.4644\n",
      "Epoch 9/10\n",
      "\u001b[1m400/400\u001b[0m \u001b[32m━━━━━━━━━━━━━━━━━━━━\u001b[0m\u001b[37m\u001b[0m \u001b[1m25s\u001b[0m 62ms/step - accuracy: 0.9644 - loss: 0.0978 - val_accuracy: 0.8712 - val_loss: 0.5857\n",
      "Epoch 10/10\n",
      "\u001b[1m400/400\u001b[0m \u001b[32m━━━━━━━━━━━━━━━━━━━━\u001b[0m\u001b[37m\u001b[0m \u001b[1m24s\u001b[0m 59ms/step - accuracy: 0.9732 - loss: 0.0720 - val_accuracy: 0.8844 - val_loss: 0.4750\n",
      "\u001b[1m100/100\u001b[0m \u001b[32m━━━━━━━━━━━━━━━━━━━━\u001b[0m\u001b[37m\u001b[0m \u001b[1m1s\u001b[0m 11ms/step - accuracy: 0.8845 - loss: 0.4951\n",
      "Validation Loss: 0.47501689195632935\n",
      "Validation Accuracy: 0.8843749761581421\n",
      "\u001b[1m100/100\u001b[0m \u001b[32m━━━━━━━━━━━━━━━━━━━━\u001b[0m\u001b[37m\u001b[0m \u001b[1m1s\u001b[0m 8ms/step\n",
      "              precision    recall  f1-score   support\n",
      "\n",
      "           0       0.95      0.90      0.92       950\n",
      "           1       0.92      0.91      0.92      1027\n",
      "           2       0.81      0.80      0.80       303\n",
      "           3       0.88      0.87      0.88       439\n",
      "           4       0.81      0.86      0.83       375\n",
      "           5       0.61      0.85      0.71       106\n",
      "\n",
      "    accuracy                           0.88      3200\n",
      "   macro avg       0.83      0.87      0.84      3200\n",
      "weighted avg       0.89      0.88      0.89      3200\n",
      "\n"
     ]
    },
    {
     "data": {
      "image/png": "[encoded data removed]",
      "text/plain": [
       "<Figure size 800x600 with 2 Axes>"
      ]
     },
     "metadata": {},
     "output_type": "display_data"
    }
   ],
   "source": [
    "import numpy as np\n",
    "import pandas as pd\n",
    "from gensim.models import Word2Vec\n",
    "from tensorflow.keras.preprocessing.text import Tokenizer\n",
    "from tensorflow.keras.preprocessing.sequence import pad_sequences\n",
    "from tensorflow.keras.models import Sequential\n",
    "from tensorflow.keras.layers import Embedding, Conv1D, MaxPooling1D, Bidirectional, LSTM, Dense, Dropout\n",
    "from tensorflow.keras.optimizers import Adam\n",
    "from sklearn.model_selection import train_test_split\n",
    "from sklearn.utils.class_weight import compute_class_weight\n",
    "from sklearn.metrics import classification_report, confusion_matrix\n",
    "import seaborn as sns\n",
    "import matplotlib.pyplot as plt\n",
    "\n",
    "# --- 1. Data Preparation ---\n",
    "# Assume 'tokenized_texts' and 'labels' are already created.\n",
    "texts = [\" \".join(tokens) for tokens in tokenized_texts]\n",
    "tokenizer = Tokenizer()\n",
    "tokenizer.fit_on_texts(texts)\n",
    "sequences = tokenizer.texts_to_sequences(texts)\n",
    "\n",
    "max_seq_length = 100\n",
    "X = pad_sequences(sequences, maxlen=max_seq_length, padding='post')\n",
    "y = np.array(labels)\n",
    "\n",
    "word_index = tokenizer.word_index\n",
    "vocab_size = len(word_index) + 1\n",
    "\n",
    "# --- 2. Load and Prepare Embeddings ---\n",
    "custom_w2v = Word2Vec.load(\"word2vec_custom.model\")\n",
    "embedding_dim = custom_w2v.vector_size\n",
    "\n",
    "embedding_matrix = np.zeros((vocab_size, embedding_dim))\n",
    "for word, i in word_index.items():\n",
    "    if word in custom_w2v.wv:\n",
    "        embedding_matrix[i] = custom_w2v.wv[word]\n",
    "\n",
    "# --- 3. Build the CNN-BiLSTM Model ---\n",
    "model = Sequential()\n",
    "model.add(Embedding(input_dim=vocab_size,\n",
    "                    output_dim=embedding_dim,\n",
    "                    input_length=max_seq_length,\n",
    "                    weights=[embedding_matrix],\n",
    "                    trainable=True))  # Make embedding trainable for fine-tuning\n",
    "\n",
    "model.add(Conv1D(filters=128, kernel_size=5, activation='relu'))\n",
    "model.add(MaxPooling1D(pool_size=2))\n",
    "model.add(Bidirectional(LSTM(64, dropout=0.2, recurrent_dropout=0.2)))\n",
    "model.add(Dense(64, activation='relu'))\n",
    "model.add(Dropout(0.5))\n",
    "model.add(Dense(len(np.unique(y)), activation='softmax'))\n",
    "\n",
    "model.summary()\n",
    "\n",
    "# --- 4. Split Data & Compute Class Weights (Optional) ---\n",
    "X_train, X_val, y_train, y_val = train_test_split(X, y, test_size=0.2, random_state=42)\n",
    "\n",
    "# If class imbalance is significant, compute class weights\n",
    "class_weights = compute_class_weight(class_weight='balanced',\n",
    "                                     classes=np.unique(y_train),\n",
    "                                     y=y_train)\n",
    "class_weights_dict = dict(zip(np.unique(y_train), class_weights))\n",
    "\n",
    "# --- 5. Compile & Train the Model ---\n",
    "model.compile(loss='sparse_categorical_crossentropy',\n",
    "              optimizer=Adam(learning_rate=0.001),\n",
    "              metrics=['accuracy'])\n",
    "\n",
    "history = model.fit(X_train, y_train,\n",
    "                    epochs=10,\n",
    "                    batch_size=32,\n",
    "                    validation_data=(X_val, y_val),\n",
    "                    class_weight=class_weights_dict)  # Apply class weights if needed\n",
    "\n",
    "# --- 6. Evaluate Model ---\n",
    "val_loss, val_accuracy = model.evaluate(X_val, y_val)\n",
    "print(\"Validation Loss:\", val_loss)\n",
    "print(\"Validation Accuracy:\", val_accuracy)\n",
    "\n",
    "# Generate predictions and evaluate with F1-score & confusion matrix\n",
    "y_pred = model.predict(X_val).argmax(axis=1)\n",
    "print(classification_report(y_val, y_pred))\n",
    "\n",
    "cm = confusion_matrix(y_val, y_pred)\n",
    "plt.figure(figsize=(8, 6))\n",
    "sns.heatmap(cm, annot=True, fmt=\"d\", cmap=\"Blues\")\n",
    "plt.title(\"Confusion Matrix\")\n",
    "plt.ylabel(\"True Label\")\n",
    "plt.xlabel(\"Predicted Label\")\n",
    "plt.show()"
   ]
  },
  {
   "cell_type": "markdown",
   "metadata": {},
   "source": [
    "## MUCH BETTER!🚀🚀🚀"
   ]
  },
  {
   "cell_type": "code",
   "execution_count": null,
   "metadata": {},
   "outputs": [],
   "source": []
  }
 ],
 "metadata": {
  "kernelspec": {
   "display_name": "sent_env",
   "language": "python",
   "name": "python3"
  },
  "language_info": {
   "codemirror_mode": {
    "name": "ipython",
    "version": 3
   },
   "file_extension": ".py",
   "mimetype": "text/x-python",
   "name": "python",
   "nbconvert_exporter": "python",
   "pygments_lexer": "ipython3",
   "version": "3.12.9"
  }
 },
 "nbformat": 4,
 "nbformat_minor": 2
}
